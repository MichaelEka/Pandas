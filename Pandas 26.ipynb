{
 "cells": [
  {
   "cell_type": "markdown",
   "id": "af6bdc27-67dd-46a1-81db-a92aa3066822",
   "metadata": {},
   "source": [
    "# Import Modules"
   ]
  },
  {
   "cell_type": "code",
   "execution_count": 3,
   "id": "7ef4d895-cc0a-4279-81b4-83e4e25ab357",
   "metadata": {},
   "outputs": [
    {
     "name": "stdout",
     "output_type": "stream",
     "text": [
      "2.2.2\n"
     ]
    }
   ],
   "source": [
    "import pandas as pd\n",
    "\n",
    "print(pd.__version__)"
   ]
  },
  {
   "cell_type": "markdown",
   "id": "db8cd309-8563-401a-8ed0-928febfef0d8",
   "metadata": {},
   "source": [
    "# Membuat Data Frame dari hasil seleksi Spreadsheet"
   ]
  },
  {
   "cell_type": "code",
   "execution_count": 5,
   "id": "f7f4d0ad-3bbc-4e32-b658-f49df59d4030",
   "metadata": {},
   "outputs": [],
   "source": [
    "#df = pd.read_clipboard()\n",
    "#df"
   ]
  },
  {
   "cell_type": "code",
   "execution_count": null,
   "id": "c66e157d-cd17-4785-becf-5c637f8050c3",
   "metadata": {},
   "outputs": [],
   "source": []
  }
 ],
 "metadata": {
  "kernelspec": {
   "display_name": "Python 3 (ipykernel)",
   "language": "python",
   "name": "python3"
  },
  "language_info": {
   "codemirror_mode": {
    "name": "ipython",
    "version": 3
   },
   "file_extension": ".py",
   "mimetype": "text/x-python",
   "name": "python",
   "nbconvert_exporter": "python",
   "pygments_lexer": "ipython3",
   "version": "3.12.3"
  }
 },
 "nbformat": 4,
 "nbformat_minor": 5
}
